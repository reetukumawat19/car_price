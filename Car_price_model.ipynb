{
 "cells": [
  {
   "cell_type": "code",
   "execution_count": 1,
   "id": "94fcd45c",
   "metadata": {},
   "outputs": [],
   "source": [
    "import pandas as pd\n",
    "import matplotlib.pyplot as plt\n",
    "import seaborn as sns\n",
    "from sklearn.metrics import accuracy_score\n",
    "from sklearn.linear_model import LinearRegression\n",
    "from sklearn.model_selection import train_test_split"
   ]
  },
  {
   "cell_type": "code",
   "execution_count": 2,
   "id": "8335c271",
   "metadata": {},
   "outputs": [],
   "source": [
    "dataset=pd.read_csv(\"used_cars_data.csv\")"
   ]
  },
  {
   "cell_type": "code",
   "execution_count": 3,
   "id": "7b27c406",
   "metadata": {},
   "outputs": [
    {
     "data": {
      "text/html": [
       "<div>\n",
       "<style scoped>\n",
       "    .dataframe tbody tr th:only-of-type {\n",
       "        vertical-align: middle;\n",
       "    }\n",
       "\n",
       "    .dataframe tbody tr th {\n",
       "        vertical-align: top;\n",
       "    }\n",
       "\n",
       "    .dataframe thead th {\n",
       "        text-align: right;\n",
       "    }\n",
       "</style>\n",
       "<table border=\"1\" class=\"dataframe\">\n",
       "  <thead>\n",
       "    <tr style=\"text-align: right;\">\n",
       "      <th></th>\n",
       "      <th>Unnamed: 0</th>\n",
       "      <th>brand</th>\n",
       "      <th>model</th>\n",
       "      <th>price (eur)</th>\n",
       "      <th>engine</th>\n",
       "      <th>year</th>\n",
       "      <th>mileage (kms)</th>\n",
       "      <th>fuel</th>\n",
       "      <th>gearbox</th>\n",
       "      <th>location</th>\n",
       "    </tr>\n",
       "  </thead>\n",
       "  <tbody>\n",
       "    <tr>\n",
       "      <th>0</th>\n",
       "      <td>0</td>\n",
       "      <td>SEAT</td>\n",
       "      <td>Ibiza</td>\n",
       "      <td>8990</td>\n",
       "      <td>SC 1.2 TSI 90cv Style</td>\n",
       "      <td>2016</td>\n",
       "      <td>67000</td>\n",
       "      <td>Gasolina</td>\n",
       "      <td>Manual</td>\n",
       "      <td>Granollers</td>\n",
       "    </tr>\n",
       "    <tr>\n",
       "      <th>1</th>\n",
       "      <td>1</td>\n",
       "      <td>Hyundai</td>\n",
       "      <td>i30</td>\n",
       "      <td>9990</td>\n",
       "      <td>1.6 CRDi 110cv Tecno</td>\n",
       "      <td>2014</td>\n",
       "      <td>104868</td>\n",
       "      <td>Diésel</td>\n",
       "      <td>Manual</td>\n",
       "      <td>Viladecans</td>\n",
       "    </tr>\n",
       "    <tr>\n",
       "      <th>2</th>\n",
       "      <td>2</td>\n",
       "      <td>BMW</td>\n",
       "      <td>Serie 5</td>\n",
       "      <td>13490</td>\n",
       "      <td>530d Touring</td>\n",
       "      <td>2011</td>\n",
       "      <td>137566</td>\n",
       "      <td>Diésel</td>\n",
       "      <td>Automatica</td>\n",
       "      <td>Viladecans</td>\n",
       "    </tr>\n",
       "    <tr>\n",
       "      <th>3</th>\n",
       "      <td>3</td>\n",
       "      <td>Volkswagen</td>\n",
       "      <td>Golf</td>\n",
       "      <td>24990</td>\n",
       "      <td>GTI 2.0 TSI 169kW (230CV)</td>\n",
       "      <td>2018</td>\n",
       "      <td>44495</td>\n",
       "      <td>Gasolina</td>\n",
       "      <td>Manual</td>\n",
       "      <td>Viladecans</td>\n",
       "    </tr>\n",
       "    <tr>\n",
       "      <th>4</th>\n",
       "      <td>4</td>\n",
       "      <td>Opel</td>\n",
       "      <td>Corsa</td>\n",
       "      <td>10460</td>\n",
       "      <td>1.4 Expression 90 CV</td>\n",
       "      <td>2016</td>\n",
       "      <td>69800</td>\n",
       "      <td>Gasolina</td>\n",
       "      <td>Manual</td>\n",
       "      <td>Sabadell 1</td>\n",
       "    </tr>\n",
       "    <tr>\n",
       "      <th>...</th>\n",
       "      <td>...</td>\n",
       "      <td>...</td>\n",
       "      <td>...</td>\n",
       "      <td>...</td>\n",
       "      <td>...</td>\n",
       "      <td>...</td>\n",
       "      <td>...</td>\n",
       "      <td>...</td>\n",
       "      <td>...</td>\n",
       "      <td>...</td>\n",
       "    </tr>\n",
       "    <tr>\n",
       "      <th>787</th>\n",
       "      <td>787</td>\n",
       "      <td>Volkswagen</td>\n",
       "      <td>Golf</td>\n",
       "      <td>13990</td>\n",
       "      <td>Edition 1.6 TDI 110CV BMT</td>\n",
       "      <td>2016</td>\n",
       "      <td>84040</td>\n",
       "      <td>Diésel</td>\n",
       "      <td>Manual</td>\n",
       "      <td>Gavá</td>\n",
       "    </tr>\n",
       "    <tr>\n",
       "      <th>788</th>\n",
       "      <td>788</td>\n",
       "      <td>Kia</td>\n",
       "      <td>Sportage</td>\n",
       "      <td>24990</td>\n",
       "      <td>1.6 GDi 97kW (132CV) Basic 4x2</td>\n",
       "      <td>2018</td>\n",
       "      <td>65872</td>\n",
       "      <td>Gasolina</td>\n",
       "      <td>Manual</td>\n",
       "      <td>Viladecans</td>\n",
       "    </tr>\n",
       "    <tr>\n",
       "      <th>789</th>\n",
       "      <td>789</td>\n",
       "      <td>Abarth</td>\n",
       "      <td>500</td>\n",
       "      <td>17990</td>\n",
       "      <td>1.4 16v T-Jet 595 118kW (160CV) Pista E6</td>\n",
       "      <td>2019</td>\n",
       "      <td>28830</td>\n",
       "      <td>Gasolina</td>\n",
       "      <td>Manual</td>\n",
       "      <td>Mataró</td>\n",
       "    </tr>\n",
       "    <tr>\n",
       "      <th>790</th>\n",
       "      <td>790</td>\n",
       "      <td>Volkswagen</td>\n",
       "      <td>Tiguan</td>\n",
       "      <td>14990</td>\n",
       "      <td>2.0 TDI 177cv DSG 4x4 Sport BMotion Tech</td>\n",
       "      <td>2014</td>\n",
       "      <td>162895</td>\n",
       "      <td>Diésel</td>\n",
       "      <td>Automatica</td>\n",
       "      <td>Mataró</td>\n",
       "    </tr>\n",
       "    <tr>\n",
       "      <th>791</th>\n",
       "      <td>791</td>\n",
       "      <td>Dacia</td>\n",
       "      <td>Dokker</td>\n",
       "      <td>14390</td>\n",
       "      <td>SL Trotamundos dCi 66kW (90CV)</td>\n",
       "      <td>2018</td>\n",
       "      <td>9800</td>\n",
       "      <td>Diésel</td>\n",
       "      <td>Manual</td>\n",
       "      <td>Badalona</td>\n",
       "    </tr>\n",
       "  </tbody>\n",
       "</table>\n",
       "<p>792 rows × 10 columns</p>\n",
       "</div>"
      ],
      "text/plain": [
       "     Unnamed: 0       brand     model  price (eur)  \\\n",
       "0             0        SEAT     Ibiza         8990   \n",
       "1             1     Hyundai       i30         9990   \n",
       "2             2         BMW   Serie 5        13490   \n",
       "3             3  Volkswagen      Golf        24990   \n",
       "4             4        Opel     Corsa        10460   \n",
       "..          ...         ...       ...          ...   \n",
       "787         787  Volkswagen      Golf        13990   \n",
       "788         788         Kia  Sportage        24990   \n",
       "789         789      Abarth       500        17990   \n",
       "790         790  Volkswagen    Tiguan        14990   \n",
       "791         791       Dacia    Dokker        14390   \n",
       "\n",
       "                                       engine  year  mileage (kms)      fuel  \\\n",
       "0                       SC 1.2 TSI 90cv Style  2016          67000  Gasolina   \n",
       "1                        1.6 CRDi 110cv Tecno  2014         104868    Diésel   \n",
       "2                                530d Touring  2011         137566    Diésel   \n",
       "3                   GTI 2.0 TSI 169kW (230CV)  2018          44495  Gasolina   \n",
       "4                        1.4 Expression 90 CV  2016          69800  Gasolina   \n",
       "..                                        ...   ...            ...       ...   \n",
       "787                 Edition 1.6 TDI 110CV BMT  2016          84040    Diésel   \n",
       "788            1.6 GDi 97kW (132CV) Basic 4x2  2018          65872  Gasolina   \n",
       "789  1.4 16v T-Jet 595 118kW (160CV) Pista E6  2019          28830  Gasolina   \n",
       "790  2.0 TDI 177cv DSG 4x4 Sport BMotion Tech  2014         162895    Diésel   \n",
       "791            SL Trotamundos dCi 66kW (90CV)  2018           9800    Diésel   \n",
       "\n",
       "        gearbox    location  \n",
       "0        Manual  Granollers  \n",
       "1        Manual  Viladecans  \n",
       "2    Automatica  Viladecans  \n",
       "3        Manual  Viladecans  \n",
       "4        Manual  Sabadell 1  \n",
       "..          ...         ...  \n",
       "787      Manual        Gavá  \n",
       "788      Manual  Viladecans  \n",
       "789      Manual      Mataró  \n",
       "790  Automatica      Mataró  \n",
       "791      Manual    Badalona  \n",
       "\n",
       "[792 rows x 10 columns]"
      ]
     },
     "execution_count": 3,
     "metadata": {},
     "output_type": "execute_result"
    }
   ],
   "source": [
    "dataset"
   ]
  },
  {
   "cell_type": "code",
   "execution_count": 4,
   "id": "6df94fed",
   "metadata": {},
   "outputs": [],
   "source": [
    "y=dataset['price (eur)']"
   ]
  },
  {
   "cell_type": "code",
   "execution_count": 5,
   "id": "75a14d3e",
   "metadata": {},
   "outputs": [
    {
     "data": {
      "text/plain": [
       "0       8990\n",
       "1       9990\n",
       "2      13490\n",
       "3      24990\n",
       "4      10460\n",
       "       ...  \n",
       "787    13990\n",
       "788    24990\n",
       "789    17990\n",
       "790    14990\n",
       "791    14390\n",
       "Name: price (eur), Length: 792, dtype: int64"
      ]
     },
     "execution_count": 5,
     "metadata": {},
     "output_type": "execute_result"
    }
   ],
   "source": [
    "y"
   ]
  },
  {
   "cell_type": "code",
   "execution_count": 6,
   "id": "fd3d58ae",
   "metadata": {},
   "outputs": [
    {
     "data": {
      "text/plain": [
       "Index(['Unnamed: 0', 'brand', 'model', 'price (eur)', 'engine', 'year',\n",
       "       'mileage (kms)', 'fuel', 'gearbox', 'location'],\n",
       "      dtype='object')"
      ]
     },
     "execution_count": 6,
     "metadata": {},
     "output_type": "execute_result"
    }
   ],
   "source": [
    "dataset.columns"
   ]
  },
  {
   "cell_type": "code",
   "execution_count": 7,
   "id": "bcd38331",
   "metadata": {},
   "outputs": [],
   "source": [
    "x=dataset[['gearbox','fuel','mileage (kms)','year']]"
   ]
  },
  {
   "cell_type": "code",
   "execution_count": 8,
   "id": "012d823a",
   "metadata": {},
   "outputs": [
    {
     "data": {
      "text/html": [
       "<div>\n",
       "<style scoped>\n",
       "    .dataframe tbody tr th:only-of-type {\n",
       "        vertical-align: middle;\n",
       "    }\n",
       "\n",
       "    .dataframe tbody tr th {\n",
       "        vertical-align: top;\n",
       "    }\n",
       "\n",
       "    .dataframe thead th {\n",
       "        text-align: right;\n",
       "    }\n",
       "</style>\n",
       "<table border=\"1\" class=\"dataframe\">\n",
       "  <thead>\n",
       "    <tr style=\"text-align: right;\">\n",
       "      <th></th>\n",
       "      <th>gearbox</th>\n",
       "      <th>fuel</th>\n",
       "      <th>mileage (kms)</th>\n",
       "      <th>year</th>\n",
       "    </tr>\n",
       "  </thead>\n",
       "  <tbody>\n",
       "    <tr>\n",
       "      <th>0</th>\n",
       "      <td>Manual</td>\n",
       "      <td>Gasolina</td>\n",
       "      <td>67000</td>\n",
       "      <td>2016</td>\n",
       "    </tr>\n",
       "    <tr>\n",
       "      <th>1</th>\n",
       "      <td>Manual</td>\n",
       "      <td>Diésel</td>\n",
       "      <td>104868</td>\n",
       "      <td>2014</td>\n",
       "    </tr>\n",
       "    <tr>\n",
       "      <th>2</th>\n",
       "      <td>Automatica</td>\n",
       "      <td>Diésel</td>\n",
       "      <td>137566</td>\n",
       "      <td>2011</td>\n",
       "    </tr>\n",
       "    <tr>\n",
       "      <th>3</th>\n",
       "      <td>Manual</td>\n",
       "      <td>Gasolina</td>\n",
       "      <td>44495</td>\n",
       "      <td>2018</td>\n",
       "    </tr>\n",
       "    <tr>\n",
       "      <th>4</th>\n",
       "      <td>Manual</td>\n",
       "      <td>Gasolina</td>\n",
       "      <td>69800</td>\n",
       "      <td>2016</td>\n",
       "    </tr>\n",
       "    <tr>\n",
       "      <th>...</th>\n",
       "      <td>...</td>\n",
       "      <td>...</td>\n",
       "      <td>...</td>\n",
       "      <td>...</td>\n",
       "    </tr>\n",
       "    <tr>\n",
       "      <th>787</th>\n",
       "      <td>Manual</td>\n",
       "      <td>Diésel</td>\n",
       "      <td>84040</td>\n",
       "      <td>2016</td>\n",
       "    </tr>\n",
       "    <tr>\n",
       "      <th>788</th>\n",
       "      <td>Manual</td>\n",
       "      <td>Gasolina</td>\n",
       "      <td>65872</td>\n",
       "      <td>2018</td>\n",
       "    </tr>\n",
       "    <tr>\n",
       "      <th>789</th>\n",
       "      <td>Manual</td>\n",
       "      <td>Gasolina</td>\n",
       "      <td>28830</td>\n",
       "      <td>2019</td>\n",
       "    </tr>\n",
       "    <tr>\n",
       "      <th>790</th>\n",
       "      <td>Automatica</td>\n",
       "      <td>Diésel</td>\n",
       "      <td>162895</td>\n",
       "      <td>2014</td>\n",
       "    </tr>\n",
       "    <tr>\n",
       "      <th>791</th>\n",
       "      <td>Manual</td>\n",
       "      <td>Diésel</td>\n",
       "      <td>9800</td>\n",
       "      <td>2018</td>\n",
       "    </tr>\n",
       "  </tbody>\n",
       "</table>\n",
       "<p>792 rows × 4 columns</p>\n",
       "</div>"
      ],
      "text/plain": [
       "        gearbox      fuel  mileage (kms)  year\n",
       "0        Manual  Gasolina          67000  2016\n",
       "1        Manual    Diésel         104868  2014\n",
       "2    Automatica    Diésel         137566  2011\n",
       "3        Manual  Gasolina          44495  2018\n",
       "4        Manual  Gasolina          69800  2016\n",
       "..          ...       ...            ...   ...\n",
       "787      Manual    Diésel          84040  2016\n",
       "788      Manual  Gasolina          65872  2018\n",
       "789      Manual  Gasolina          28830  2019\n",
       "790  Automatica    Diésel         162895  2014\n",
       "791      Manual    Diésel           9800  2018\n",
       "\n",
       "[792 rows x 4 columns]"
      ]
     },
     "execution_count": 8,
     "metadata": {},
     "output_type": "execute_result"
    }
   ],
   "source": [
    "x"
   ]
  },
  {
   "cell_type": "code",
   "execution_count": 9,
   "id": "2f61a49f",
   "metadata": {},
   "outputs": [
    {
     "name": "stderr",
     "output_type": "stream",
     "text": [
      "C:\\Users\\91998\\anaconda3\\lib\\site-packages\\seaborn\\_decorators.py:36: FutureWarning: Pass the following variable as a keyword arg: x. From version 0.12, the only valid positional argument will be `data`, and passing other arguments without an explicit keyword will result in an error or misinterpretation.\n",
      "  warnings.warn(\n"
     ]
    },
    {
     "data": {
      "text/plain": [
       "<AxesSubplot:xlabel='gearbox', ylabel='count'>"
      ]
     },
     "execution_count": 9,
     "metadata": {},
     "output_type": "execute_result"
    },
    {
     "data": {
      "image/png": "[encoded data removed]",
      "text/plain": [
       "<Figure size 432x288 with 1 Axes>"
      ]
     },
     "metadata": {
      "needs_background": "light"
     },
     "output_type": "display_data"
    }
   ],
   "source": [
    "sns.countplot(x['gearbox'])"
   ]
  },
  {
   "cell_type": "code",
   "execution_count": 10,
   "id": "02cb0e4f",
   "metadata": {},
   "outputs": [
    {
     "name": "stderr",
     "output_type": "stream",
     "text": [
      "C:\\Users\\91998\\anaconda3\\lib\\site-packages\\seaborn\\_decorators.py:36: FutureWarning: Pass the following variable as a keyword arg: x. From version 0.12, the only valid positional argument will be `data`, and passing other arguments without an explicit keyword will result in an error or misinterpretation.\n",
      "  warnings.warn(\n"
     ]
    },
    {
     "data": {
      "text/plain": [
       "<AxesSubplot:xlabel='fuel', ylabel='count'>"
      ]
     },
     "execution_count": 10,
     "metadata": {},
     "output_type": "execute_result"
    },
    {
     "data": {
      "image/png": "[encoded data removed]",
      "text/plain": [
       "<Figure size 432x288 with 1 Axes>"
      ]
     },
     "metadata": {
      "needs_background": "light"
     },
     "output_type": "display_data"
    }
   ],
   "source": [
    "sns.countplot(x['fuel'])"
   ]
  },
  {
   "cell_type": "code",
   "execution_count": 11,
   "id": "31c94613",
   "metadata": {},
   "outputs": [
    {
     "data": {
      "text/plain": [
       "array(['Manual', 'Automatica'], dtype=object)"
      ]
     },
     "execution_count": 11,
     "metadata": {},
     "output_type": "execute_result"
    }
   ],
   "source": [
    "x['gearbox'].unique()"
   ]
  },
  {
   "cell_type": "code",
   "execution_count": 12,
   "id": "00542f8d",
   "metadata": {},
   "outputs": [],
   "source": [
    "x=x.replace({'Manual':0, 'Automatica':1})"
   ]
  },
  {
   "cell_type": "code",
   "execution_count": 13,
   "id": "bfb97037",
   "metadata": {},
   "outputs": [
    {
     "data": {
      "text/plain": [
       "array(['Gasolina', 'Diésel', 'Híbrido', 'GLP', 'Eléctrico'], dtype=object)"
      ]
     },
     "execution_count": 13,
     "metadata": {},
     "output_type": "execute_result"
    }
   ],
   "source": [
    "x['fuel'].unique()"
   ]
  },
  {
   "cell_type": "code",
   "execution_count": 14,
   "id": "e1106a93",
   "metadata": {},
   "outputs": [],
   "source": [
    "x=x.replace({'Gasolina':0, 'Diésel':1, 'Híbrido':2, 'GLP':3, 'Eléctrico':4})"
   ]
  },
  {
   "cell_type": "code",
   "execution_count": 15,
   "id": "f24c44dc",
   "metadata": {},
   "outputs": [
    {
     "data": {
      "text/html": [
       "<div>\n",
       "<style scoped>\n",
       "    .dataframe tbody tr th:only-of-type {\n",
       "        vertical-align: middle;\n",
       "    }\n",
       "\n",
       "    .dataframe tbody tr th {\n",
       "        vertical-align: top;\n",
       "    }\n",
       "\n",
       "    .dataframe thead th {\n",
       "        text-align: right;\n",
       "    }\n",
       "</style>\n",
       "<table border=\"1\" class=\"dataframe\">\n",
       "  <thead>\n",
       "    <tr style=\"text-align: right;\">\n",
       "      <th></th>\n",
       "      <th>gearbox</th>\n",
       "      <th>fuel</th>\n",
       "      <th>mileage (kms)</th>\n",
       "      <th>year</th>\n",
       "    </tr>\n",
       "  </thead>\n",
       "  <tbody>\n",
       "    <tr>\n",
       "      <th>0</th>\n",
       "      <td>0</td>\n",
       "      <td>0</td>\n",
       "      <td>67000</td>\n",
       "      <td>2016</td>\n",
       "    </tr>\n",
       "    <tr>\n",
       "      <th>1</th>\n",
       "      <td>0</td>\n",
       "      <td>1</td>\n",
       "      <td>104868</td>\n",
       "      <td>2014</td>\n",
       "    </tr>\n",
       "    <tr>\n",
       "      <th>2</th>\n",
       "      <td>1</td>\n",
       "      <td>1</td>\n",
       "      <td>137566</td>\n",
       "      <td>2011</td>\n",
       "    </tr>\n",
       "    <tr>\n",
       "      <th>3</th>\n",
       "      <td>0</td>\n",
       "      <td>0</td>\n",
       "      <td>44495</td>\n",
       "      <td>2018</td>\n",
       "    </tr>\n",
       "    <tr>\n",
       "      <th>4</th>\n",
       "      <td>0</td>\n",
       "      <td>0</td>\n",
       "      <td>69800</td>\n",
       "      <td>2016</td>\n",
       "    </tr>\n",
       "    <tr>\n",
       "      <th>...</th>\n",
       "      <td>...</td>\n",
       "      <td>...</td>\n",
       "      <td>...</td>\n",
       "      <td>...</td>\n",
       "    </tr>\n",
       "    <tr>\n",
       "      <th>787</th>\n",
       "      <td>0</td>\n",
       "      <td>1</td>\n",
       "      <td>84040</td>\n",
       "      <td>2016</td>\n",
       "    </tr>\n",
       "    <tr>\n",
       "      <th>788</th>\n",
       "      <td>0</td>\n",
       "      <td>0</td>\n",
       "      <td>65872</td>\n",
       "      <td>2018</td>\n",
       "    </tr>\n",
       "    <tr>\n",
       "      <th>789</th>\n",
       "      <td>0</td>\n",
       "      <td>0</td>\n",
       "      <td>28830</td>\n",
       "      <td>2019</td>\n",
       "    </tr>\n",
       "    <tr>\n",
       "      <th>790</th>\n",
       "      <td>1</td>\n",
       "      <td>1</td>\n",
       "      <td>162895</td>\n",
       "      <td>2014</td>\n",
       "    </tr>\n",
       "    <tr>\n",
       "      <th>791</th>\n",
       "      <td>0</td>\n",
       "      <td>1</td>\n",
       "      <td>9800</td>\n",
       "      <td>2018</td>\n",
       "    </tr>\n",
       "  </tbody>\n",
       "</table>\n",
       "<p>792 rows × 4 columns</p>\n",
       "</div>"
      ],
      "text/plain": [
       "     gearbox  fuel  mileage (kms)  year\n",
       "0          0     0          67000  2016\n",
       "1          0     1         104868  2014\n",
       "2          1     1         137566  2011\n",
       "3          0     0          44495  2018\n",
       "4          0     0          69800  2016\n",
       "..       ...   ...            ...   ...\n",
       "787        0     1          84040  2016\n",
       "788        0     0          65872  2018\n",
       "789        0     0          28830  2019\n",
       "790        1     1         162895  2014\n",
       "791        0     1           9800  2018\n",
       "\n",
       "[792 rows x 4 columns]"
      ]
     },
     "execution_count": 15,
     "metadata": {},
     "output_type": "execute_result"
    }
   ],
   "source": [
    "x"
   ]
  },
  {
   "cell_type": "code",
   "execution_count": 16,
   "id": "9be64384",
   "metadata": {},
   "outputs": [],
   "source": [
    "X_train, X_test, y_train, y_test = train_test_split( x, y, test_size=0.33, random_state=42)"
   ]
  },
  {
   "cell_type": "code",
   "execution_count": 17,
   "id": "4984f9a4",
   "metadata": {},
   "outputs": [],
   "source": [
    "model=LinearRegression()"
   ]
  },
  {
   "cell_type": "code",
   "execution_count": 18,
   "id": "81e13a2d",
   "metadata": {},
   "outputs": [
    {
     "data": {
      "text/plain": [
       "LinearRegression()"
      ]
     },
     "execution_count": 18,
     "metadata": {},
     "output_type": "execute_result"
    }
   ],
   "source": [
    "model.fit(X_train,y_train)"
   ]
  },
  {
   "cell_type": "code",
   "execution_count": 19,
   "id": "71e42443",
   "metadata": {},
   "outputs": [],
   "source": [
    "y_predict=model.predict(X_test)"
   ]
  },
  {
   "cell_type": "code",
   "execution_count": 27,
   "id": "0652592a",
   "metadata": {},
   "outputs": [
    {
     "data": {
      "text/plain": [
       "array([ 8240.77489786, 14411.92745273, 22146.66959784, 17389.88918055,\n",
       "       22854.29625158, 15539.72820055, 13362.80519805, 15523.41563809,\n",
       "        9948.34426004, 11937.00980727, 13262.11139235, 15035.1694396 ,\n",
       "       13357.70485858, 25585.88547204, 15396.46134761, 14852.89850017,\n",
       "       24531.63204128, 11485.67361901,  7740.50102221, 12607.44067171,\n",
       "       19617.92899032, 10623.55277651, 15534.72239216, 15370.26051477,\n",
       "       11598.66920764, 18547.87377034, 21790.25733912, 21481.37737566,\n",
       "       23348.45279879, 13027.54763972, 15307.2818946 , 18575.01315023,\n",
       "       19414.0476567 , 15718.43456679, 12133.88095337, 15385.64797917,\n",
       "       25192.64060801, 19730.93283655, 11611.89125468, 16234.3240632 ,\n",
       "       19079.45198842, 14006.84756986, 13453.81226817,  8362.77679555,\n",
       "       13611.29681591, 22951.6885196 , 15044.71648608, 20946.25954211,\n",
       "        8682.76619334, 22371.13809242, 12234.61385327, 14995.31827093,\n",
       "       14387.98999197, 12964.02423958, 14180.83997854, 18512.37056256,\n",
       "       22659.04916652, 10022.05603898, 15076.77829457, 16481.01687928,\n",
       "       14083.00369796, 15493.60692281, 17191.89623554,  8606.41616913,\n",
       "       14297.10424698, 16063.69486541, 15550.2229241 , 12698.19077015,\n",
       "       13439.52464258, 15165.99886306, 11769.07227035, 13028.97842355,\n",
       "       12465.42722168, 14754.94555589, 16337.55472786, 16342.25217023,\n",
       "       19716.24635639, 21886.36474872, 15061.01051208, 21481.37737566,\n",
       "       11917.83831732, 10092.24840275, 21868.89067425, 18575.36771919,\n",
       "       22186.44398047, 14015.42393425, 20946.87627415, 12962.42275755,\n",
       "       15427.82736325, 18131.98368916,  9287.35001471, 15617.49608955,\n",
       "       17488.98457041, 11755.3225695 , 12658.74187968, 18807.670121  ,\n",
       "       10419.11638406, 16549.19458505, 19174.25398187, 16353.04498093,\n",
       "       14165.23463665, 13954.22179037, 15292.6078871 , 18309.45861259,\n",
       "        8238.09211348, 10313.54415891, 19648.17627325, 23165.39847167,\n",
       "       14175.90612222, 15226.35637206, 15226.35637206, 17416.41576702,\n",
       "       14629.64414179, 14553.77582198, 14357.15338996, 12448.10592785,\n",
       "       24072.1070194 , 16501.51294075, 16537.37590888, 12871.21836767,\n",
       "       15634.91051209, 22726.99247962, 10202.20144665, 19474.69297398,\n",
       "       16051.3602246 , 14273.89456454, 20836.33593244, 21105.44836055,\n",
       "       11167.89215643, 13532.58124985, 13657.2516105 , 21186.26143445,\n",
       "       15963.57158881, 12231.53019307, 11849.88814899, 23116.65204021,\n",
       "       15304.47576382, 14089.91311808,  9274.43975734, 10601.05233591,\n",
       "       12186.18185165, 17737.31489653, 21755.52706766, 24961.29414087,\n",
       "       15900.5812874 , 16470.73801194, 22011.265287  , 13752.4133643 ,\n",
       "       16444.44466929, 14305.0292537 , 12341.21800769, 13409.09919526,\n",
       "       16098.61394551, 13277.84833824, 24484.84263716, 14448.08025042,\n",
       "       16033.88615013, 16511.85348129, 15271.58338834, 10441.7298922 ,\n",
       "       17881.21903924, 16299.08092742, 22087.83054852, 15136.41628286,\n",
       "       15127.25579079, 21770.21354782, 14461.53528777, 17431.65932728,\n",
       "       13133.04167647, 17519.82117242, 17963.44997793, 23810.52214582,\n",
       "       23228.83964087, 15141.41181239, 13767.81110757, 14504.43725876,\n",
       "        9955.44897864, 17586.63381011, 13974.45060129, 19450.02369237,\n",
       "       14069.34510454, 15226.35637206,  8915.42975787, 15397.08835852,\n",
       "       12381.3055903 , 11002.56685419, 21580.78632294, 14529.98024409,\n",
       "        8093.49102906, 13287.18154978, 22515.04223514, 16095.55935415,\n",
       "       16357.6273345 , 15397.62426199, 12372.71043594, 15664.76034283,\n",
       "        9177.43808628, 16168.53931224, 23516.4074698 , 13090.45430782,\n",
       "       12608.46855844, 13272.0941938 , 17429.36713986, 10388.62240831,\n",
       "       12546.79535442, 11697.02909156, 15092.73109668,  9636.89317736,\n",
       "       15640.03966689, 13446.83493852, 19919.90155493, 17391.33533072,\n",
       "       21588.26731709, 14386.3453732 , 11194.79397352, 13443.75127832,\n",
       "       21786.36366967, 18509.20467142, 15974.97147159, 22341.42250585,\n",
       "       11898.88408595, 21516.39747667, 22002.21988374,  8327.63132685,\n",
       "       14347.17058851, 13012.33491606, 14365.42787817, 16496.43518028,\n",
       "       14200.1827856 , 14596.03426687, 11218.64094575, 12785.41864074,\n",
       "       16151.88754716,  9377.22843071, 26171.09564976, 12186.12843604,\n",
       "       15277.18537104, 17824.22412223, 14296.49779381, 18419.86075653,\n",
       "       13324.8124831 , 14614.18472531, 16220.44759229, 23011.5115275 ,\n",
       "       14361.2341003 , 20858.86720964, 20742.75712421, 15639.56683899,\n",
       "       11872.53249374, 24003.25090838, 19549.72870554, 16393.13256355,\n",
       "       18534.9840707 , 16405.65222396, 22887.7745225 , 20669.86967592,\n",
       "       23065.17951513, 22646.20058235, 12524.82053843, 13376.60971688,\n",
       "        9584.93350298,  8736.07239934])"
      ]
     },
     "execution_count": 27,
     "metadata": {},
     "output_type": "execute_result"
    }
   ],
   "source": [
    "y_predict"
   ]
  },
  {
   "cell_type": "code",
   "execution_count": null,
   "id": "aa010672",
   "metadata": {},
   "outputs": [],
   "source": []
  }
 ],
 "metadata": {
  "kernelspec": {
   "display_name": "Python 3 (ipykernel)",
   "language": "python",
   "name": "python3"
  },
  "language_info": {
   "codemirror_mode": {
    "name": "ipython",
    "version": 3
   },
   "file_extension": ".py",
   "mimetype": "text/x-python",
   "name": "python",
   "nbconvert_exporter": "python",
   "pygments_lexer": "ipython3",
   "version": "3.9.12"
  }
 },
 "nbformat": 4,
 "nbformat_minor": 5
}
